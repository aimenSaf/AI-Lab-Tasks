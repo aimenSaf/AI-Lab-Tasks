{
  "nbformat": 4,
  "nbformat_minor": 0,
  "metadata": {
    "colab": {
      "provenance": [],
      "authorship_tag": "ABX9TyNq2qQmxFqn6rgJzVSKMenu"
    },
    "kernelspec": {
      "name": "python3",
      "display_name": "Python 3"
    },
    "language_info": {
      "name": "python"
    }
  },
  "cells": [
    {
      "cell_type": "code",
      "execution_count": 5,
      "metadata": {
        "id": "tUaGmC0KQOyA"
      },
      "outputs": [],
      "source": [
        "class Agent:\n",
        "    def __init__(self):\n",
        "        self.heater = 0\n",
        "\n",
        "    def action(self, percept):\n",
        "        if percept == \"Heater on 30%\":\n",
        "            self.heater = 30\n",
        "        elif percept == \"Heater on 40%\":\n",
        "            self.heater = 40\n",
        "        elif percept == \"Heater on 50%\":\n",
        "            self.heater = 50\n",
        "        else:\n",
        "            self.heater = 0  # Default or no action\n",
        "\n",
        "class Home:\n",
        "    def __init__(self, temp):\n",
        "        self.temp = temp\n",
        "\n",
        "    def percept(self):\n",
        "        if self.temp > 20:\n",
        "            return \"Heater on 30%\"\n",
        "        elif 15 <= self.temp <= 20:\n",
        "            return \"Heater on 40%\"\n",
        "        elif self.temp < 15:\n",
        "            return \"Heater on 50%\"\n",
        "\n",
        "    def update_temp(self, temp):\n",
        "        self.temp = temp\n",
        "\n",
        "# Example temperatures\n",
        "temps = [20, 13, 9]\n",
        "\n",
        "# Initialize environment and agent\n",
        "env = Home(temps[0])\n",
        "agent = Agent()\n",
        "\n",
        "# Simulation loop\n",
        "for i in range(len(temps)):\n",
        "    percept = env.percept()\n",
        "    agent.action(percept)\n",
        "    print(f\"Temperature: {env.temp}°C, Percept: {percept}, Heater: {agent.heater}%\")\n",
        "\n",
        "    if i < len(temps) - 1:\n",
        "        env.update_temp(temps[i + 1])\n"
      ]
    }
  ]
}